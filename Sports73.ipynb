{
  "nbformat": 4,
  "nbformat_minor": 0,
  "metadata": {
    "colab": {
      "name": "Sports73.ipynb",
      "provenance": [],
      "collapsed_sections": [],
      "authorship_tag": "ABX9TyNfK9mvlNeoqwifIaTLqmt5",
      "include_colab_link": true
    },
    "kernelspec": {
      "name": "python3",
      "display_name": "Python 3"
    },
    "language_info": {
      "name": "python"
    },
    "accelerator": "GPU"
  },
  "cells": [
    {
      "cell_type": "markdown",
      "metadata": {
        "id": "view-in-github",
        "colab_type": "text"
      },
      "source": [
        "<a href=\"https://colab.research.google.com/github/jyothish-mohan/Sports73_App/blob/main/Sports73.ipynb\" target=\"_parent\"><img src=\"https://colab.research.google.com/assets/colab-badge.svg\" alt=\"Open In Colab\"/></a>"
      ]
    },
    {
      "cell_type": "code",
      "metadata": {
        "id": "NpmCB6EC0_dt"
      },
      "source": [
        "from google.colab import drive\n",
        "drive.mount('/content/drive/')"
      ],
      "execution_count": null,
      "outputs": []
    },
    {
      "cell_type": "code",
      "metadata": {
        "colab": {
          "base_uri": "https://localhost:8080/",
          "height": 35
        },
        "id": "36bDIZl9GZAB",
        "outputId": "9a14304b-983d-4ba2-e570-d9638ef90b72"
      },
      "source": [
        "import tensorflow as tf\n",
        "print(tf.__version__)"
      ],
      "execution_count": null,
      "outputs": [
        {
          "output_type": "execute_result",
          "data": {
            "application/vnd.google.colaboratory.intrinsic+json": {
              "type": "string"
            },
            "text/plain": [
              "'2.5.0'"
            ]
          },
          "metadata": {
            "tags": []
          },
          "execution_count": 1
        }
      ]
    },
    {
      "cell_type": "code",
      "metadata": {
        "id": "rM8jL5eV1UiU"
      },
      "source": [
        "train_path = '/sports73/train'\n",
        "valid_path = '/sports73/valid'"
      ],
      "execution_count": null,
      "outputs": []
    },
    {
      "cell_type": "code",
      "metadata": {
        "id": "00YQeyqO1-wZ"
      },
      "source": [
        "import tensorflow as tf\n",
        "from tensorflow import keras\n",
        "from tensorflow.keras import layers"
      ],
      "execution_count": null,
      "outputs": []
    },
    {
      "cell_type": "code",
      "metadata": {
        "id": "9_Ytjcew6ji4"
      },
      "source": [
        "preprocess_input = tf.keras.applications.inception_v3.preprocess_input"
      ],
      "execution_count": null,
      "outputs": []
    },
    {
      "cell_type": "code",
      "metadata": {
        "colab": {
          "base_uri": "https://localhost:8080/"
        },
        "id": "gAIzDO_06jXL",
        "outputId": "ceb1a67a-6c4c-4aea-ff45-97667bb0833f"
      },
      "source": [
        "train_datagen = keras.preprocessing.image.ImageDataGenerator(preprocessing_function = preprocess_input)\n",
        "valid_datagen = keras.preprocessing.image.ImageDataGenerator(preprocessing_function=preprocess_input)\n",
        "\n",
        "train_generator = train_datagen.flow_from_directory(train_path, target_size = (224,224), batch_size = 64, class_mode = 'categorical')\n",
        "valid_generator = valid_datagen.flow_from_directory(valid_path, target_size = (224,224), batch_size = 64, class_mode = 'categorical')\n"
      ],
      "execution_count": null,
      "outputs": [
        {
          "output_type": "stream",
          "text": [
            "Found 10416 images belonging to 73 classes.\n",
            "Found 365 images belonging to 73 classes.\n"
          ],
          "name": "stdout"
        }
      ]
    },
    {
      "cell_type": "code",
      "metadata": {
        "colab": {
          "base_uri": "https://localhost:8080/"
        },
        "id": "YdvYrc8E2rEz",
        "outputId": "2b21e35e-7848-4cd8-ea78-a5aa9f2bfa5d"
      },
      "source": [
        "base_model = tf.keras.applications.InceptionV3(input_shape = (224,224,3), weights = 'imagenet', include_top = False)"
      ],
      "execution_count": null,
      "outputs": [
        {
          "output_type": "stream",
          "text": [
            "Downloading data from https://storage.googleapis.com/tensorflow/keras-applications/inception_v3/inception_v3_weights_tf_dim_ordering_tf_kernels_notop.h5\n",
            "87916544/87910968 [==============================] - 2s 0us/step\n"
          ],
          "name": "stdout"
        }
      ]
    },
    {
      "cell_type": "code",
      "metadata": {
        "id": "UhOgJA4MndPy"
      },
      "source": [
        "for layer in base_model.layers[:294]:\n",
        "  layer.trainable = False"
      ],
      "execution_count": null,
      "outputs": []
    },
    {
      "cell_type": "code",
      "metadata": {
        "id": "AtIp2EaI45th"
      },
      "source": [
        "x = base_model.output\n",
        "x = tf.keras.layers.GlobalAveragePooling2D()(x)\n",
        "out = tf.keras.layers.Dense(73, activation='softmax')(x)\n",
        "\n",
        "model =  tf.keras.models.Model(inputs = base_model.input, outputs = out)"
      ],
      "execution_count": null,
      "outputs": []
    },
    {
      "cell_type": "code",
      "metadata": {
        "colab": {
          "base_uri": "https://localhost:8080/"
        },
        "id": "hy69-eWSzdtc",
        "outputId": "8550ce68-7665-4b65-b0d0-505775b736e3"
      },
      "source": [
        "for i,layer in enumerate(base_model.layers):\n",
        "  print(i,layer.name)"
      ],
      "execution_count": null,
      "outputs": [
        {
          "output_type": "stream",
          "text": [
            "0 input_2\n",
            "1 conv2d\n",
            "2 batch_normalization\n",
            "3 activation\n",
            "4 conv2d_1\n",
            "5 batch_normalization_1\n",
            "6 activation_1\n",
            "7 conv2d_2\n",
            "8 batch_normalization_2\n",
            "9 activation_2\n",
            "10 max_pooling2d\n",
            "11 conv2d_3\n",
            "12 batch_normalization_3\n",
            "13 activation_3\n",
            "14 conv2d_4\n",
            "15 batch_normalization_4\n",
            "16 activation_4\n",
            "17 max_pooling2d_1\n",
            "18 conv2d_8\n",
            "19 batch_normalization_8\n",
            "20 activation_8\n",
            "21 conv2d_6\n",
            "22 conv2d_9\n",
            "23 batch_normalization_6\n",
            "24 batch_normalization_9\n",
            "25 activation_6\n",
            "26 activation_9\n",
            "27 average_pooling2d\n",
            "28 conv2d_5\n",
            "29 conv2d_7\n",
            "30 conv2d_10\n",
            "31 conv2d_11\n",
            "32 batch_normalization_5\n",
            "33 batch_normalization_7\n",
            "34 batch_normalization_10\n",
            "35 batch_normalization_11\n",
            "36 activation_5\n",
            "37 activation_7\n",
            "38 activation_10\n",
            "39 activation_11\n",
            "40 mixed0\n",
            "41 conv2d_15\n",
            "42 batch_normalization_15\n",
            "43 activation_15\n",
            "44 conv2d_13\n",
            "45 conv2d_16\n",
            "46 batch_normalization_13\n",
            "47 batch_normalization_16\n",
            "48 activation_13\n",
            "49 activation_16\n",
            "50 average_pooling2d_1\n",
            "51 conv2d_12\n",
            "52 conv2d_14\n",
            "53 conv2d_17\n",
            "54 conv2d_18\n",
            "55 batch_normalization_12\n",
            "56 batch_normalization_14\n",
            "57 batch_normalization_17\n",
            "58 batch_normalization_18\n",
            "59 activation_12\n",
            "60 activation_14\n",
            "61 activation_17\n",
            "62 activation_18\n",
            "63 mixed1\n",
            "64 conv2d_22\n",
            "65 batch_normalization_22\n",
            "66 activation_22\n",
            "67 conv2d_20\n",
            "68 conv2d_23\n",
            "69 batch_normalization_20\n",
            "70 batch_normalization_23\n",
            "71 activation_20\n",
            "72 activation_23\n",
            "73 average_pooling2d_2\n",
            "74 conv2d_19\n",
            "75 conv2d_21\n",
            "76 conv2d_24\n",
            "77 conv2d_25\n",
            "78 batch_normalization_19\n",
            "79 batch_normalization_21\n",
            "80 batch_normalization_24\n",
            "81 batch_normalization_25\n",
            "82 activation_19\n",
            "83 activation_21\n",
            "84 activation_24\n",
            "85 activation_25\n",
            "86 mixed2\n",
            "87 conv2d_27\n",
            "88 batch_normalization_27\n",
            "89 activation_27\n",
            "90 conv2d_28\n",
            "91 batch_normalization_28\n",
            "92 activation_28\n",
            "93 conv2d_26\n",
            "94 conv2d_29\n",
            "95 batch_normalization_26\n",
            "96 batch_normalization_29\n",
            "97 activation_26\n",
            "98 activation_29\n",
            "99 max_pooling2d_2\n",
            "100 mixed3\n",
            "101 conv2d_34\n",
            "102 batch_normalization_34\n",
            "103 activation_34\n",
            "104 conv2d_35\n",
            "105 batch_normalization_35\n",
            "106 activation_35\n",
            "107 conv2d_31\n",
            "108 conv2d_36\n",
            "109 batch_normalization_31\n",
            "110 batch_normalization_36\n",
            "111 activation_31\n",
            "112 activation_36\n",
            "113 conv2d_32\n",
            "114 conv2d_37\n",
            "115 batch_normalization_32\n",
            "116 batch_normalization_37\n",
            "117 activation_32\n",
            "118 activation_37\n",
            "119 average_pooling2d_3\n",
            "120 conv2d_30\n",
            "121 conv2d_33\n",
            "122 conv2d_38\n",
            "123 conv2d_39\n",
            "124 batch_normalization_30\n",
            "125 batch_normalization_33\n",
            "126 batch_normalization_38\n",
            "127 batch_normalization_39\n",
            "128 activation_30\n",
            "129 activation_33\n",
            "130 activation_38\n",
            "131 activation_39\n",
            "132 mixed4\n",
            "133 conv2d_44\n",
            "134 batch_normalization_44\n",
            "135 activation_44\n",
            "136 conv2d_45\n",
            "137 batch_normalization_45\n",
            "138 activation_45\n",
            "139 conv2d_41\n",
            "140 conv2d_46\n",
            "141 batch_normalization_41\n",
            "142 batch_normalization_46\n",
            "143 activation_41\n",
            "144 activation_46\n",
            "145 conv2d_42\n",
            "146 conv2d_47\n",
            "147 batch_normalization_42\n",
            "148 batch_normalization_47\n",
            "149 activation_42\n",
            "150 activation_47\n",
            "151 average_pooling2d_4\n",
            "152 conv2d_40\n",
            "153 conv2d_43\n",
            "154 conv2d_48\n",
            "155 conv2d_49\n",
            "156 batch_normalization_40\n",
            "157 batch_normalization_43\n",
            "158 batch_normalization_48\n",
            "159 batch_normalization_49\n",
            "160 activation_40\n",
            "161 activation_43\n",
            "162 activation_48\n",
            "163 activation_49\n",
            "164 mixed5\n",
            "165 conv2d_54\n",
            "166 batch_normalization_54\n",
            "167 activation_54\n",
            "168 conv2d_55\n",
            "169 batch_normalization_55\n",
            "170 activation_55\n",
            "171 conv2d_51\n",
            "172 conv2d_56\n",
            "173 batch_normalization_51\n",
            "174 batch_normalization_56\n",
            "175 activation_51\n",
            "176 activation_56\n",
            "177 conv2d_52\n",
            "178 conv2d_57\n",
            "179 batch_normalization_52\n",
            "180 batch_normalization_57\n",
            "181 activation_52\n",
            "182 activation_57\n",
            "183 average_pooling2d_5\n",
            "184 conv2d_50\n",
            "185 conv2d_53\n",
            "186 conv2d_58\n",
            "187 conv2d_59\n",
            "188 batch_normalization_50\n",
            "189 batch_normalization_53\n",
            "190 batch_normalization_58\n",
            "191 batch_normalization_59\n",
            "192 activation_50\n",
            "193 activation_53\n",
            "194 activation_58\n",
            "195 activation_59\n",
            "196 mixed6\n",
            "197 conv2d_64\n",
            "198 batch_normalization_64\n",
            "199 activation_64\n",
            "200 conv2d_65\n",
            "201 batch_normalization_65\n",
            "202 activation_65\n",
            "203 conv2d_61\n",
            "204 conv2d_66\n",
            "205 batch_normalization_61\n",
            "206 batch_normalization_66\n",
            "207 activation_61\n",
            "208 activation_66\n",
            "209 conv2d_62\n",
            "210 conv2d_67\n",
            "211 batch_normalization_62\n",
            "212 batch_normalization_67\n",
            "213 activation_62\n",
            "214 activation_67\n",
            "215 average_pooling2d_6\n",
            "216 conv2d_60\n",
            "217 conv2d_63\n",
            "218 conv2d_68\n",
            "219 conv2d_69\n",
            "220 batch_normalization_60\n",
            "221 batch_normalization_63\n",
            "222 batch_normalization_68\n",
            "223 batch_normalization_69\n",
            "224 activation_60\n",
            "225 activation_63\n",
            "226 activation_68\n",
            "227 activation_69\n",
            "228 mixed7\n",
            "229 conv2d_72\n",
            "230 batch_normalization_72\n",
            "231 activation_72\n",
            "232 conv2d_73\n",
            "233 batch_normalization_73\n",
            "234 activation_73\n",
            "235 conv2d_70\n",
            "236 conv2d_74\n",
            "237 batch_normalization_70\n",
            "238 batch_normalization_74\n",
            "239 activation_70\n",
            "240 activation_74\n",
            "241 conv2d_71\n",
            "242 conv2d_75\n",
            "243 batch_normalization_71\n",
            "244 batch_normalization_75\n",
            "245 activation_71\n",
            "246 activation_75\n",
            "247 max_pooling2d_3\n",
            "248 mixed8\n",
            "249 conv2d_80\n",
            "250 batch_normalization_80\n",
            "251 activation_80\n",
            "252 conv2d_77\n",
            "253 conv2d_81\n",
            "254 batch_normalization_77\n",
            "255 batch_normalization_81\n",
            "256 activation_77\n",
            "257 activation_81\n",
            "258 conv2d_78\n",
            "259 conv2d_79\n",
            "260 conv2d_82\n",
            "261 conv2d_83\n",
            "262 average_pooling2d_7\n",
            "263 conv2d_76\n",
            "264 batch_normalization_78\n",
            "265 batch_normalization_79\n",
            "266 batch_normalization_82\n",
            "267 batch_normalization_83\n",
            "268 conv2d_84\n",
            "269 batch_normalization_76\n",
            "270 activation_78\n",
            "271 activation_79\n",
            "272 activation_82\n",
            "273 activation_83\n",
            "274 batch_normalization_84\n",
            "275 activation_76\n",
            "276 mixed9_0\n",
            "277 concatenate\n",
            "278 activation_84\n",
            "279 mixed9\n",
            "280 conv2d_89\n",
            "281 batch_normalization_89\n",
            "282 activation_89\n",
            "283 conv2d_86\n",
            "284 conv2d_90\n",
            "285 batch_normalization_86\n",
            "286 batch_normalization_90\n",
            "287 activation_86\n",
            "288 activation_90\n",
            "289 conv2d_87\n",
            "290 conv2d_88\n",
            "291 conv2d_91\n",
            "292 conv2d_92\n",
            "293 average_pooling2d_8\n",
            "294 conv2d_85\n",
            "295 batch_normalization_87\n",
            "296 batch_normalization_88\n",
            "297 batch_normalization_91\n",
            "298 batch_normalization_92\n",
            "299 conv2d_93\n",
            "300 batch_normalization_85\n",
            "301 activation_87\n",
            "302 activation_88\n",
            "303 activation_91\n",
            "304 activation_92\n",
            "305 batch_normalization_93\n",
            "306 activation_85\n",
            "307 mixed9_1\n",
            "308 concatenate_1\n",
            "309 activation_93\n",
            "310 mixed10\n"
          ],
          "name": "stdout"
        }
      ]
    },
    {
      "cell_type": "code",
      "metadata": {
        "id": "f9wn1Wcbzdb9"
      },
      "source": [
        "#for layer in model.layers[:113]:\n",
        "#  layer.trainable = False"
      ],
      "execution_count": null,
      "outputs": []
    },
    {
      "cell_type": "code",
      "metadata": {
        "id": "6pDr6YDk_7uh"
      },
      "source": [
        "loss = keras.losses.CategoricalCrossentropy()\n",
        "optim = keras.optimizers.Adam(learning_rate=0.001)\n",
        "\n",
        "model.compile(optimizer=optim, loss=loss, metrics=[\"accuracy\"])"
      ],
      "execution_count": null,
      "outputs": []
    },
    {
      "cell_type": "code",
      "metadata": {
        "colab": {
          "base_uri": "https://localhost:8080/"
        },
        "id": "NteCBldqAJOG",
        "outputId": "2361cd8b-ccca-4e29-871c-bb5201b12d02"
      },
      "source": [
        "early_stopping = keras.callbacks.EarlyStopping(\n",
        "    monitor=\"val_accuracy\",\n",
        "    patience=5,\n",
        ")\n",
        "\n",
        "epochs = 50\n",
        "steps_per_epoch = len(train_generator) // 64 # batch_size\n",
        "validation_steps = len(valid_generator) // 64\n",
        "\n",
        "history = model.fit(train_generator,epochs=epochs,validation_data=valid_generator,callbacks=[early_stopping])"
      ],
      "execution_count": null,
      "outputs": [
        {
          "output_type": "stream",
          "text": [
            "Epoch 1/50\n",
            "163/163 [==============================] - 52s 315ms/step - loss: 0.0660 - accuracy: 0.9930 - val_loss: 0.2383 - val_accuracy: 0.9342\n",
            "Epoch 2/50\n",
            "163/163 [==============================] - 52s 316ms/step - loss: 0.0315 - accuracy: 0.9985 - val_loss: 0.2376 - val_accuracy: 0.9288\n",
            "Epoch 3/50\n",
            "163/163 [==============================] - 52s 316ms/step - loss: 0.0186 - accuracy: 0.9993 - val_loss: 0.2207 - val_accuracy: 0.9315\n",
            "Epoch 4/50\n",
            "163/163 [==============================] - 52s 316ms/step - loss: 0.0137 - accuracy: 0.9991 - val_loss: 0.2322 - val_accuracy: 0.9205\n",
            "Epoch 5/50\n",
            "163/163 [==============================] - 52s 316ms/step - loss: 0.0123 - accuracy: 0.9989 - val_loss: 0.2146 - val_accuracy: 0.9370\n",
            "Epoch 6/50\n",
            "163/163 [==============================] - 52s 315ms/step - loss: 0.0090 - accuracy: 0.9995 - val_loss: 0.2220 - val_accuracy: 0.9342\n",
            "Epoch 7/50\n",
            "163/163 [==============================] - 52s 315ms/step - loss: 0.0090 - accuracy: 0.9990 - val_loss: 0.2191 - val_accuracy: 0.9370\n",
            "Epoch 8/50\n",
            "163/163 [==============================] - 52s 315ms/step - loss: 0.0075 - accuracy: 0.9991 - val_loss: 0.2201 - val_accuracy: 0.9288\n",
            "Epoch 9/50\n",
            "163/163 [==============================] - 52s 316ms/step - loss: 0.0053 - accuracy: 0.9994 - val_loss: 0.2287 - val_accuracy: 0.9288\n",
            "Epoch 10/50\n",
            "163/163 [==============================] - 52s 315ms/step - loss: 0.0069 - accuracy: 0.9990 - val_loss: 0.2258 - val_accuracy: 0.9342\n"
          ],
          "name": "stdout"
        }
      ]
    },
    {
      "cell_type": "code",
      "metadata": {
        "id": "AsjHvSeDK1cM"
      },
      "source": [
        "test_path = \"/sports73/test\""
      ],
      "execution_count": null,
      "outputs": []
    },
    {
      "cell_type": "code",
      "metadata": {
        "colab": {
          "base_uri": "https://localhost:8080/"
        },
        "id": "GkhACuyyKC_x",
        "outputId": "38963afb-9875-44a5-f17e-85ba71d76b1c"
      },
      "source": [
        "test_datagen = keras.preprocessing.image.ImageDataGenerator(preprocessing_function=preprocess_input)\n",
        "\n",
        "test_generator = train_datagen.flow_from_directory(test_path, target_size = (224,224), batch_size = 64, class_mode = 'categorical')"
      ],
      "execution_count": null,
      "outputs": [
        {
          "output_type": "stream",
          "text": [
            "Found 365 images belonging to 73 classes.\n"
          ],
          "name": "stdout"
        }
      ]
    },
    {
      "cell_type": "code",
      "metadata": {
        "colab": {
          "base_uri": "https://localhost:8080/"
        },
        "id": "5eqsDDAwLDh7",
        "outputId": "9c6594d1-29e5-49a8-dff5-ce15845b5d06"
      },
      "source": [
        "model.evaluate(test_generator)"
      ],
      "execution_count": null,
      "outputs": [
        {
          "output_type": "stream",
          "text": [
            "6/6 [==============================] - 2s 289ms/step - loss: 0.1321 - accuracy: 0.9589\n"
          ],
          "name": "stdout"
        },
        {
          "output_type": "execute_result",
          "data": {
            "text/plain": [
              "[0.1321355700492859, 0.9589040875434875]"
            ]
          },
          "metadata": {
            "tags": []
          },
          "execution_count": 28
        }
      ]
    },
    {
      "cell_type": "code",
      "metadata": {
        "id": "k8dxNlO9BgT7"
      },
      "source": [
        "import os\n",
        "from PIL import Image\n",
        "import numpy as np\n",
        "dir = []\n",
        "for i in os.listdir(train_path):\n",
        "  dir.append(i)\n",
        "labels = dict([(i,j) for i,j in zip([z for z in range(len(dir))],sorted(dir))])\n"
      ],
      "execution_count": null,
      "outputs": []
    },
    {
      "cell_type": "code",
      "metadata": {
        "colab": {
          "base_uri": "https://localhost:8080/"
        },
        "id": "6ezRvzuHEvkc",
        "outputId": "d444bb2f-b495-4a84-c887-9a3adbb7fe3c"
      },
      "source": [
        "test = \"/sports73/test/boxing/2.jpg\"\n",
        "image = Image.open(test,'r')\n",
        "img = np.array(image)\n",
        "print(img.shape)\n",
        "img = img.reshape(1,224,224,3)\n",
        "img = preprocess_input(img)\n",
        "\n",
        "pred = np.argmax(model.predict(img))"
      ],
      "execution_count": null,
      "outputs": [
        {
          "output_type": "stream",
          "text": [
            "(224, 224, 3)\n"
          ],
          "name": "stdout"
        }
      ]
    },
    {
      "cell_type": "code",
      "metadata": {
        "colab": {
          "base_uri": "https://localhost:8080/",
          "height": 35
        },
        "id": "EhbFx3v4FPbu",
        "outputId": "c5941460-21ee-48d3-f8fd-97cb24c34ca7"
      },
      "source": [
        "labels[pred]"
      ],
      "execution_count": null,
      "outputs": [
        {
          "output_type": "execute_result",
          "data": {
            "application/vnd.google.colaboratory.intrinsic+json": {
              "type": "string"
            },
            "text/plain": [
              "'boxing'"
            ]
          },
          "metadata": {
            "tags": []
          },
          "execution_count": 85
        }
      ]
    },
    {
      "cell_type": "code",
      "metadata": {
        "id": "CYkLPmfmFoDR"
      },
      "source": [
        "model.save('/Sports73_model.h5')"
      ],
      "execution_count": null,
      "outputs": []
    },
    {
      "cell_type": "markdown",
      "metadata": {
        "id": "kYRAkeMpHJu_"
      },
      "source": [
        "**Testing after saving the model**"
      ]
    },
    {
      "cell_type": "code",
      "metadata": {
        "id": "a7npl3ibG3L4"
      },
      "source": [
        "import tensorflow as tf\n",
        "from tensorflow import keras\n",
        "from keras.models import load_model\n",
        "from keras.applications.inception_v3 import preprocess_input"
      ],
      "execution_count": null,
      "outputs": []
    },
    {
      "cell_type": "code",
      "metadata": {
        "id": "1GIj-2RzH04e"
      },
      "source": [
        "model = load_model('/Sports73_model.h5')"
      ],
      "execution_count": null,
      "outputs": []
    },
    {
      "cell_type": "code",
      "metadata": {
        "id": "dDo-QwvaIDXN"
      },
      "source": [
        "import os\n",
        "from PIL import Image\n",
        "import numpy as np\n",
        "dir = []\n",
        "for i in os.listdir('/sports73/train'):\n",
        "  dir.append(i)\n",
        "labels = dict([(i,j) for i,j in zip([z for z in range(len(dir))],sorted(dir))])"
      ],
      "execution_count": null,
      "outputs": []
    },
    {
      "cell_type": "code",
      "metadata": {
        "colab": {
          "base_uri": "https://localhost:8080/"
        },
        "id": "1RQFf7HXI3A3",
        "outputId": "e467150e-f2de-4320-a1dc-3adc95d21383"
      },
      "source": [
        "test = \"/sports73/test/boxing/2.jpg\"\n",
        "image = Image.open(test,'r')\n",
        "img = np.array(image)\n",
        "print(img.shape)\n",
        "img = img.reshape(1,224,224,3)\n",
        "img = preprocess_input(img)\n",
        "\n",
        "pred = np.argmax(model.predict(img))"
      ],
      "execution_count": null,
      "outputs": [
        {
          "output_type": "stream",
          "text": [
            "(224, 224, 3)\n"
          ],
          "name": "stdout"
        }
      ]
    },
    {
      "cell_type": "code",
      "metadata": {
        "colab": {
          "base_uri": "https://localhost:8080/"
        },
        "id": "hG3DzT4fI6ja",
        "outputId": "9946f9e5-013b-4f9f-f53c-318b53076417"
      },
      "source": [
        "print(\"The Predicted Sport is {}!\".format(labels[pred]))"
      ],
      "execution_count": null,
      "outputs": [
        {
          "output_type": "stream",
          "text": [
            "The Predicted Sport is boxing!\n"
          ],
          "name": "stdout"
        }
      ]
    },
    {
      "cell_type": "code",
      "metadata": {
        "id": "qbZWLgIpXxKK",
        "colab": {
          "base_uri": "https://localhost:8080/"
        },
        "outputId": "856876e1-6590-45b0-bcbe-3fd43885e36e"
      },
      "source": [
        "labels"
      ],
      "execution_count": null,
      "outputs": [
        {
          "output_type": "execute_result",
          "data": {
            "text/plain": [
              "{0: 'air hockey',\n",
              " 1: 'ampute football',\n",
              " 2: 'archery',\n",
              " 3: 'arm wrestling',\n",
              " 4: 'balance beam',\n",
              " 5: 'barell racing',\n",
              " 6: 'baseball',\n",
              " 7: 'basketball',\n",
              " 8: 'billiards',\n",
              " 9: 'bmx',\n",
              " 10: 'bobsled',\n",
              " 11: 'bowling',\n",
              " 12: 'boxing',\n",
              " 13: 'bull riding',\n",
              " 14: 'canoe slamon',\n",
              " 15: 'cricket',\n",
              " 16: 'croquet',\n",
              " 17: 'curling',\n",
              " 18: 'fencing',\n",
              " 19: 'field hockey',\n",
              " 20: 'figure skating men',\n",
              " 21: 'figure skating pairs',\n",
              " 22: 'figure skating women',\n",
              " 23: 'football',\n",
              " 24: 'formula 1 racing',\n",
              " 25: 'frisbee',\n",
              " 26: 'giant slalom',\n",
              " 27: 'golf',\n",
              " 28: 'hammer throw',\n",
              " 29: 'harness racing',\n",
              " 30: 'high jump',\n",
              " 31: 'hockey',\n",
              " 32: 'horse jumping',\n",
              " 33: 'horse racing',\n",
              " 34: 'hurdles',\n",
              " 35: 'ice climbing',\n",
              " 36: 'jai alai',\n",
              " 37: 'javelin',\n",
              " 38: 'judo',\n",
              " 39: 'lacrosse',\n",
              " 40: 'luge',\n",
              " 41: 'motorcycle racing',\n",
              " 42: 'nascar racing',\n",
              " 43: 'olympic wrestling',\n",
              " 44: 'parallel bar',\n",
              " 45: 'pole vault',\n",
              " 46: 'polo',\n",
              " 47: 'pommel horse',\n",
              " 48: 'rings',\n",
              " 49: 'rock climbing',\n",
              " 50: 'rollerblade racing',\n",
              " 51: 'rowing',\n",
              " 52: 'rugby',\n",
              " 53: 'sailboat racing',\n",
              " 54: 'shot put',\n",
              " 55: 'ski jumping',\n",
              " 56: 'skydiving',\n",
              " 57: 'snow boarding',\n",
              " 58: 'snowmobile racing',\n",
              " 59: 'speed skating',\n",
              " 60: 'sumo wrestling',\n",
              " 61: 'surfing',\n",
              " 62: 'swimming',\n",
              " 63: 'table tennis',\n",
              " 64: 'tennis',\n",
              " 65: 'track bicycle',\n",
              " 66: 'tug of war',\n",
              " 67: 'uneven bars',\n",
              " 68: 'volleyball',\n",
              " 69: 'water polo',\n",
              " 70: 'weightlifting',\n",
              " 71: 'wheelchair basketball',\n",
              " 72: 'wheelchair racing'}"
            ]
          },
          "metadata": {
            "tags": []
          },
          "execution_count": 7
        }
      ]
    },
    {
      "cell_type": "code",
      "metadata": {
        "id": "GBu28u00XyIg"
      },
      "source": [
        ""
      ],
      "execution_count": null,
      "outputs": []
    }
  ]
}